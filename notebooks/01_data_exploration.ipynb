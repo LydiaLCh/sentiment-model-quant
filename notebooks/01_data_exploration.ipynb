{
 "cells": [
  {
   "cell_type": "code",
   "execution_count": 76,
   "id": "60145465",
   "metadata": {},
   "outputs": [],
   "source": [
    "# import libraries \n",
    "\n",
    "import yfinance as yf \n",
    "import numpy as np \n",
    "import pandas as pd \n",
    "\n",
    "# download data from yfinance dataset \n",
    "def fetch_and_process_hourly_data(ticker, start_date, end_date): \n",
    "\n",
    "    # Download hourly stock data with interval hardcoded into the function as 1h\n",
    "    df = yf.download(ticker, start= start_date, end = end_date, interval= \"1h\")\n",
    "\n",
    "    # Check if data is multi-index columns \n",
    "    if isinstance(df.columns, pd.MultiIndex): \n",
    "        # Extract ticker's data by slicing the second level of columns\n",
    "        df_ticker = df.xs(ticker, axis = 1, level = 1)\n",
    "    else: \n",
    "        df_ticker = df\n",
    "    \n",
    "    # Compute log returns on Close price \n",
    "    df_ticker[\"log_return\"] = np.log(df_ticker[\"Close\"] / df_ticker[\"Close\"].shift(1))\n",
    "\n",
    "    # Remove the first row after computing log returns to remove NaN log return \n",
    "    df_ticker = df_ticker.dropna(subset = ['log_return'])\n",
    "\n",
    "    print(df_ticker)\n",
    "    "
   ]
  },
  {
   "cell_type": "code",
   "execution_count": 77,
   "id": "857c4ae6",
   "metadata": {},
   "outputs": [
    {
     "name": "stderr",
     "output_type": "stream",
     "text": [
      "/var/folders/34/mh55f40j11qcbq5hh0hfw_3w0000gn/T/ipykernel_84007/4039574915.py:11: FutureWarning: YF.download() has changed argument auto_adjust default to True\n",
      "  df = yf.download(ticker, start= start_date, end = end_date, interval= \"1h\")\n",
      "[*********************100%***********************]  1 of 1 completed"
     ]
    },
    {
     "name": "stdout",
     "output_type": "stream",
     "text": [
      "Price                           Close        High         Low        Open  \\\n",
      "Datetime                                                                    \n",
      "2025-07-25 14:30:00+00:00  214.509995  215.240005  214.210007  214.589996   \n",
      "2025-07-25 15:30:00+00:00  214.389603  214.639999  214.050003  214.500000   \n",
      "2025-07-25 16:30:00+00:00  214.169998  214.589996  214.039993  214.389999   \n",
      "2025-07-25 17:30:00+00:00  213.889999  214.509995  213.820007  214.170395   \n",
      "2025-07-25 18:30:00+00:00  213.500000  214.009995  213.399994  213.910004   \n",
      "2025-07-25 19:30:00+00:00  213.960007  214.000000  213.490005  213.505005   \n",
      "2025-07-28 13:30:00+00:00  214.520004  214.740005  213.580002  214.029999   \n",
      "2025-07-28 14:30:00+00:00  214.434998  214.845001  214.122299  214.535004   \n",
      "2025-07-28 15:30:00+00:00  214.539993  214.750000  214.289993  214.440002   \n",
      "2025-07-28 16:30:00+00:00  213.645004  214.574997  213.414993  214.535004   \n",
      "2025-07-28 17:30:00+00:00  213.800003  214.020004  213.619995  213.634995   \n",
      "2025-07-28 18:30:00+00:00  213.429993  213.830002  213.059998  213.820007   \n",
      "2025-07-28 19:30:00+00:00  214.039993  214.050003  213.320007  213.419998   \n",
      "2025-07-29 13:30:00+00:00  213.050003  214.809998  211.509995  214.160004   \n",
      "2025-07-29 14:30:00+00:00  211.899994  213.248306  211.889999  213.039993   \n",
      "2025-07-29 15:30:00+00:00  212.000000  212.929993  211.699997  211.880997   \n",
      "2025-07-29 16:30:00+00:00  212.199997  212.389999  210.824997  211.990005   \n",
      "2025-07-29 17:30:00+00:00  211.960007  212.389999  211.815002  212.210007   \n",
      "2025-07-29 18:30:00+00:00  211.889999  212.440002  211.600006  211.964996   \n",
      "2025-07-29 19:30:00+00:00  211.350006  211.910004  211.054504  211.889999   \n",
      "\n",
      "Price                        Volume  log_return  \n",
      "Datetime                                         \n",
      "2025-07-25 14:30:00+00:00   5133351   -0.000351  \n",
      "2025-07-25 15:30:00+00:00   5205668   -0.000561  \n",
      "2025-07-25 16:30:00+00:00   2636543   -0.001025  \n",
      "2025-07-25 17:30:00+00:00   3060915   -0.001308  \n",
      "2025-07-25 18:30:00+00:00   2957957   -0.001825  \n",
      "2025-07-25 19:30:00+00:00   4400863    0.002152  \n",
      "2025-07-28 13:30:00+00:00   7838862    0.002614  \n",
      "2025-07-28 14:30:00+00:00   3872401   -0.000396  \n",
      "2025-07-28 15:30:00+00:00   2571343    0.000490  \n",
      "2025-07-28 16:30:00+00:00   3975039   -0.004180  \n",
      "2025-07-28 17:30:00+00:00   2392173    0.000725  \n",
      "2025-07-28 18:30:00+00:00   4397176   -0.001732  \n",
      "2025-07-28 19:30:00+00:00   3976187    0.002854  \n",
      "2025-07-29 13:30:00+00:00  11789728   -0.004636  \n",
      "2025-07-29 14:30:00+00:00   5404192   -0.005412  \n",
      "2025-07-29 15:30:00+00:00   4842502    0.000472  \n",
      "2025-07-29 16:30:00+00:00   4558639    0.000943  \n",
      "2025-07-29 17:30:00+00:00   3024877   -0.001132  \n",
      "2025-07-29 18:30:00+00:00   3376083   -0.000330  \n",
      "2025-07-29 19:30:00+00:00   4836491   -0.002552  \n"
     ]
    },
    {
     "name": "stderr",
     "output_type": "stream",
     "text": [
      "\n"
     ]
    }
   ],
   "source": [
    "# Example usage: \n",
    "\n",
    "ticker = \"AAPL\"\n",
    "start_date = \"2025-07-25\"\n",
    "end_date = \"2025-07-30\"\n",
    "\n",
    "data = fetch_and_process_hourly_data(ticker, start_date, end_date)"
   ]
  }
 ],
 "metadata": {
  "kernelspec": {
   "display_name": ".venv",
   "language": "python",
   "name": "python3"
  },
  "language_info": {
   "codemirror_mode": {
    "name": "ipython",
    "version": 3
   },
   "file_extension": ".py",
   "mimetype": "text/x-python",
   "name": "python",
   "nbconvert_exporter": "python",
   "pygments_lexer": "ipython3",
   "version": "3.13.5"
  }
 },
 "nbformat": 4,
 "nbformat_minor": 5
}
